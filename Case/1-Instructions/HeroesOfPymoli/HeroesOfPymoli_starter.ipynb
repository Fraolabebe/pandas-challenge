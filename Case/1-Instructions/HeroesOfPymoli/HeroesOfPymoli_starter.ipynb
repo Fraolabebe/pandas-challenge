{
 "cells": [
  {
   "cell_type": "markdown",
   "metadata": {},
   "source": [
    "### Note\n",
    "* Instructions have been included for each segment. You do not have to follow them exactly, but they are included to help you think through the steps."
   ]
  },
  {
   "cell_type": "code",
   "execution_count": 1,
   "metadata": {},
   "outputs": [
    {
     "data": {
      "text/html": [
       "<div>\n",
       "<style scoped>\n",
       "    .dataframe tbody tr th:only-of-type {\n",
       "        vertical-align: middle;\n",
       "    }\n",
       "\n",
       "    .dataframe tbody tr th {\n",
       "        vertical-align: top;\n",
       "    }\n",
       "\n",
       "    .dataframe thead th {\n",
       "        text-align: right;\n",
       "    }\n",
       "</style>\n",
       "<table border=\"1\" class=\"dataframe\">\n",
       "  <thead>\n",
       "    <tr style=\"text-align: right;\">\n",
       "      <th></th>\n",
       "      <th>Purchase ID</th>\n",
       "      <th>SN</th>\n",
       "      <th>Age</th>\n",
       "      <th>Gender</th>\n",
       "      <th>Item ID</th>\n",
       "      <th>Item Name</th>\n",
       "      <th>Price</th>\n",
       "    </tr>\n",
       "  </thead>\n",
       "  <tbody>\n",
       "    <tr>\n",
       "      <th>0</th>\n",
       "      <td>0</td>\n",
       "      <td>Lisim78</td>\n",
       "      <td>20</td>\n",
       "      <td>Male</td>\n",
       "      <td>108</td>\n",
       "      <td>Extraction, Quickblade Of Trembling Hands</td>\n",
       "      <td>3.53</td>\n",
       "    </tr>\n",
       "    <tr>\n",
       "      <th>1</th>\n",
       "      <td>1</td>\n",
       "      <td>Lisovynya38</td>\n",
       "      <td>40</td>\n",
       "      <td>Male</td>\n",
       "      <td>143</td>\n",
       "      <td>Frenzied Scimitar</td>\n",
       "      <td>1.56</td>\n",
       "    </tr>\n",
       "    <tr>\n",
       "      <th>2</th>\n",
       "      <td>2</td>\n",
       "      <td>Ithergue48</td>\n",
       "      <td>24</td>\n",
       "      <td>Male</td>\n",
       "      <td>92</td>\n",
       "      <td>Final Critic</td>\n",
       "      <td>4.88</td>\n",
       "    </tr>\n",
       "    <tr>\n",
       "      <th>3</th>\n",
       "      <td>3</td>\n",
       "      <td>Chamassasya86</td>\n",
       "      <td>24</td>\n",
       "      <td>Male</td>\n",
       "      <td>100</td>\n",
       "      <td>Blindscythe</td>\n",
       "      <td>3.27</td>\n",
       "    </tr>\n",
       "    <tr>\n",
       "      <th>4</th>\n",
       "      <td>4</td>\n",
       "      <td>Iskosia90</td>\n",
       "      <td>23</td>\n",
       "      <td>Male</td>\n",
       "      <td>131</td>\n",
       "      <td>Fury</td>\n",
       "      <td>1.44</td>\n",
       "    </tr>\n",
       "    <tr>\n",
       "      <th>...</th>\n",
       "      <td>...</td>\n",
       "      <td>...</td>\n",
       "      <td>...</td>\n",
       "      <td>...</td>\n",
       "      <td>...</td>\n",
       "      <td>...</td>\n",
       "      <td>...</td>\n",
       "    </tr>\n",
       "    <tr>\n",
       "      <th>775</th>\n",
       "      <td>775</td>\n",
       "      <td>Aethedru70</td>\n",
       "      <td>21</td>\n",
       "      <td>Female</td>\n",
       "      <td>60</td>\n",
       "      <td>Wolf</td>\n",
       "      <td>3.54</td>\n",
       "    </tr>\n",
       "    <tr>\n",
       "      <th>776</th>\n",
       "      <td>776</td>\n",
       "      <td>Iral74</td>\n",
       "      <td>21</td>\n",
       "      <td>Male</td>\n",
       "      <td>164</td>\n",
       "      <td>Exiled Doomblade</td>\n",
       "      <td>1.63</td>\n",
       "    </tr>\n",
       "    <tr>\n",
       "      <th>777</th>\n",
       "      <td>777</td>\n",
       "      <td>Yathecal72</td>\n",
       "      <td>20</td>\n",
       "      <td>Male</td>\n",
       "      <td>67</td>\n",
       "      <td>Celeste, Incarnation of the Corrupted</td>\n",
       "      <td>3.46</td>\n",
       "    </tr>\n",
       "    <tr>\n",
       "      <th>778</th>\n",
       "      <td>778</td>\n",
       "      <td>Sisur91</td>\n",
       "      <td>7</td>\n",
       "      <td>Male</td>\n",
       "      <td>92</td>\n",
       "      <td>Final Critic</td>\n",
       "      <td>4.19</td>\n",
       "    </tr>\n",
       "    <tr>\n",
       "      <th>779</th>\n",
       "      <td>779</td>\n",
       "      <td>Ennrian78</td>\n",
       "      <td>24</td>\n",
       "      <td>Male</td>\n",
       "      <td>50</td>\n",
       "      <td>Dawn</td>\n",
       "      <td>4.60</td>\n",
       "    </tr>\n",
       "  </tbody>\n",
       "</table>\n",
       "<p>780 rows × 7 columns</p>\n",
       "</div>"
      ],
      "text/plain": [
       "     Purchase ID             SN  Age  Gender  Item ID  \\\n",
       "0              0        Lisim78   20    Male      108   \n",
       "1              1    Lisovynya38   40    Male      143   \n",
       "2              2     Ithergue48   24    Male       92   \n",
       "3              3  Chamassasya86   24    Male      100   \n",
       "4              4      Iskosia90   23    Male      131   \n",
       "..           ...            ...  ...     ...      ...   \n",
       "775          775     Aethedru70   21  Female       60   \n",
       "776          776         Iral74   21    Male      164   \n",
       "777          777     Yathecal72   20    Male       67   \n",
       "778          778        Sisur91    7    Male       92   \n",
       "779          779      Ennrian78   24    Male       50   \n",
       "\n",
       "                                     Item Name  Price  \n",
       "0    Extraction, Quickblade Of Trembling Hands   3.53  \n",
       "1                            Frenzied Scimitar   1.56  \n",
       "2                                 Final Critic   4.88  \n",
       "3                                  Blindscythe   3.27  \n",
       "4                                         Fury   1.44  \n",
       "..                                         ...    ...  \n",
       "775                                       Wolf   3.54  \n",
       "776                           Exiled Doomblade   1.63  \n",
       "777      Celeste, Incarnation of the Corrupted   3.46  \n",
       "778                               Final Critic   4.19  \n",
       "779                                       Dawn   4.60  \n",
       "\n",
       "[780 rows x 7 columns]"
      ]
     },
     "execution_count": 1,
     "metadata": {},
     "output_type": "execute_result"
    }
   ],
   "source": [
    "# Dependencies and Setup\n",
    "import pandas as pd\n",
    "\n",
    "# File to Load (Remember to Change These)\n",
    "file_to_load = \"Resources/purchase_data.csv\"\n",
    "\n",
    "# Read Purchasing File and store into Pandas data frame\n",
    "purchase_data = pd.read_csv(file_to_load)\n",
    "purchase_data"
   ]
  },
  {
   "cell_type": "markdown",
   "metadata": {},
   "source": [
    "## Player Count"
   ]
  },
  {
   "cell_type": "markdown",
   "metadata": {},
   "source": [
    "* Display the total number of players\n"
   ]
  },
  {
   "cell_type": "code",
   "execution_count": 2,
   "metadata": {},
   "outputs": [
    {
     "data": {
      "text/html": [
       "<div>\n",
       "<style scoped>\n",
       "    .dataframe tbody tr th:only-of-type {\n",
       "        vertical-align: middle;\n",
       "    }\n",
       "\n",
       "    .dataframe tbody tr th {\n",
       "        vertical-align: top;\n",
       "    }\n",
       "\n",
       "    .dataframe thead th {\n",
       "        text-align: right;\n",
       "    }\n",
       "</style>\n",
       "<table border=\"1\" class=\"dataframe\">\n",
       "  <thead>\n",
       "    <tr style=\"text-align: right;\">\n",
       "      <th></th>\n",
       "      <th>Total Playes</th>\n",
       "    </tr>\n",
       "  </thead>\n",
       "  <tbody>\n",
       "    <tr>\n",
       "      <th>0</th>\n",
       "      <td>576</td>\n",
       "    </tr>\n",
       "  </tbody>\n",
       "</table>\n",
       "</div>"
      ],
      "text/plain": [
       "   Total Playes\n",
       "0           576"
      ]
     },
     "execution_count": 2,
     "metadata": {},
     "output_type": "execute_result"
    }
   ],
   "source": [
    "total_players = len(purchase_data['SN'].value_counts())\n",
    "player_count = pd.DataFrame({\"Total Playes\" : [total_players]})\n",
    "player_count"
   ]
  },
  {
   "cell_type": "markdown",
   "metadata": {},
   "source": [
    "## Purchasing Analysis (Total)"
   ]
  },
  {
   "cell_type": "markdown",
   "metadata": {},
   "source": [
    "* Run basic calculations to obtain number of unique items, average price, etc.\n",
    "\n",
    "\n",
    "* Create a summary data frame to hold the results\n",
    "\n",
    "\n",
    "* Optional: give the displayed data cleaner formatting\n",
    "\n",
    "\n",
    "* Display the summary data frame\n"
   ]
  },
  {
   "cell_type": "code",
   "execution_count": 3,
   "metadata": {},
   "outputs": [
    {
     "data": {
      "text/html": [
       "<div>\n",
       "<style scoped>\n",
       "    .dataframe tbody tr th:only-of-type {\n",
       "        vertical-align: middle;\n",
       "    }\n",
       "\n",
       "    .dataframe tbody tr th {\n",
       "        vertical-align: top;\n",
       "    }\n",
       "\n",
       "    .dataframe thead th {\n",
       "        text-align: right;\n",
       "    }\n",
       "</style>\n",
       "<table border=\"1\" class=\"dataframe\">\n",
       "  <thead>\n",
       "    <tr style=\"text-align: right;\">\n",
       "      <th></th>\n",
       "      <th>Number of Unique Items</th>\n",
       "      <th>Average Price</th>\n",
       "      <th>Total Number of Purchases</th>\n",
       "      <th>Revenue</th>\n",
       "    </tr>\n",
       "  </thead>\n",
       "  <tbody>\n",
       "    <tr>\n",
       "      <th>0</th>\n",
       "      <td>179</td>\n",
       "      <td>3.050987</td>\n",
       "      <td>780</td>\n",
       "      <td>2379.77</td>\n",
       "    </tr>\n",
       "  </tbody>\n",
       "</table>\n",
       "</div>"
      ],
      "text/plain": [
       "   Number of Unique Items  Average Price  Total Number of Purchases  Revenue\n",
       "0                     179       3.050987                        780  2379.77"
      ]
     },
     "execution_count": 3,
     "metadata": {},
     "output_type": "execute_result"
    }
   ],
   "source": [
    "#  Calculations to obtain number of unique items, average price, etc.\n",
    "    \n",
    "unique_items = len(purchase_data[\"Item ID\"].unique())\n",
    "unique_items\n",
    "\n",
    "avg_price = purchase_data[\"Price\"].mean()\n",
    "avg_price\n",
    "total_num_purchases = purchase_data[\"Purchase ID\"].count()\n",
    "total_num_purchases\n",
    "revenue = purchase_data[\"Price\"].sum()\n",
    "revenue\n",
    "\n",
    "# Create a summary data frame to hold the results\n",
    "summary_df = pd.DataFrame({\"Number of Unique Items\": [unique_items],\n",
    "                                \"Average Price\": [avg_price],\n",
    "                                \"Total Number of Purchases\": [total_num_purchases],\n",
    "                                \"Revenue\":[revenue]})\n",
    "summary_df\n",
    "\n",
    "# give the displayed data cleaner formatting\n"
   ]
  },
  {
   "cell_type": "markdown",
   "metadata": {},
   "source": [
    "## Gender Demographics"
   ]
  },
  {
   "cell_type": "markdown",
   "metadata": {},
   "source": [
    "* Percentage and Count of Male Players\n",
    "\n",
    "\n",
    "* Percentage and Count of Female Players\n",
    "\n",
    "\n",
    "* Percentage and Count of Other / Non-Disclosed\n",
    "\n",
    "\n"
   ]
  },
  {
   "cell_type": "code",
   "execution_count": 4,
   "metadata": {},
   "outputs": [
    {
     "data": {
      "text/html": [
       "<div>\n",
       "<style scoped>\n",
       "    .dataframe tbody tr th:only-of-type {\n",
       "        vertical-align: middle;\n",
       "    }\n",
       "\n",
       "    .dataframe tbody tr th {\n",
       "        vertical-align: top;\n",
       "    }\n",
       "\n",
       "    .dataframe thead th {\n",
       "        text-align: right;\n",
       "    }\n",
       "</style>\n",
       "<table border=\"1\" class=\"dataframe\">\n",
       "  <thead>\n",
       "    <tr style=\"text-align: right;\">\n",
       "      <th></th>\n",
       "      <th>Total Count</th>\n",
       "      <th>Percentage of players</th>\n",
       "    </tr>\n",
       "  </thead>\n",
       "  <tbody>\n",
       "    <tr>\n",
       "      <th>Male</th>\n",
       "      <td>652</td>\n",
       "      <td>83.59%</td>\n",
       "    </tr>\n",
       "    <tr>\n",
       "      <th>Female</th>\n",
       "      <td>113</td>\n",
       "      <td>14.49%</td>\n",
       "    </tr>\n",
       "    <tr>\n",
       "      <th>Other / Non-Disclosed</th>\n",
       "      <td>15</td>\n",
       "      <td>1.92%</td>\n",
       "    </tr>\n",
       "  </tbody>\n",
       "</table>\n",
       "</div>"
      ],
      "text/plain": [
       "                       Total Count Percentage of players\n",
       "Male                           652                83.59%\n",
       "Female                         113                14.49%\n",
       "Other / Non-Disclosed           15                 1.92%"
      ]
     },
     "execution_count": 4,
     "metadata": {},
     "output_type": "execute_result"
    }
   ],
   "source": [
    "# Group the data Frame by Gender\n",
    "gender_grouped = purchase_data.groupby(\"Gender\")\n",
    "\n",
    "#Count the total SN by gender\n",
    "gender_total = gender_grouped.nunique(\"SN\")\n",
    "Number_of_players = purchase_data[\"Gender\"].value_counts()\n",
    "\n",
    "#print(Percentage_of_player)\n",
    "total_genders = purchase_data[\"Gender\"].value_counts().sum()\n",
    "\n",
    "#Percentage of players by gender\n",
    "Perecent_by_gender = (Number_of_players/total_genders)*100\n",
    "Perecent_by_gender\n",
    "\n",
    "\n",
    "# Create data frame with obtained values\n",
    "gender_df = pd.DataFrame(purchase_data[\"Gender\"].value_counts())\n",
    "gender_df[\"Percentage of players\"] = Perecent_by_gender\n",
    "gender_df[\"Percentage of players\"] = gender_df[\"Percentage of players\"].map(\"{:,.2f}%\".format)\n",
    "\n",
    "new_df = gender_df.rename(columns={\"Gender\": \"Total Count\"})\n",
    "\n",
    "new_df"
   ]
  },
  {
   "cell_type": "markdown",
   "metadata": {},
   "source": [
    "# Purchasing Analysis (Gender)"
   ]
  },
  {
   "cell_type": "markdown",
   "metadata": {},
   "source": [
    "* Run basic calculations to obtain purchase count, avg. purchase price, avg. purchase total per person etc. by gender\n",
    "\n",
    "\n",
    "\n",
    "\n",
    "* Create a summary data frame to hold the results\n",
    "\n",
    "\n",
    "* Optional: give the displayed data cleaner formatting\n",
    "\n",
    "\n",
    "* Display the summary data frame"
   ]
  },
  {
   "cell_type": "code",
   "execution_count": 5,
   "metadata": {},
   "outputs": [
    {
     "data": {
      "text/html": [
       "<style  type=\"text/css\" >\n",
       "</style><table id=\"T_01a1f4e4_1739_11eb_85e6_1094bbf08d78\" ><thead>    <tr>        <th class=\"blank level0\" ></th>        <th class=\"col_heading level0 col0\" >Purchase Count</th>        <th class=\"col_heading level0 col1\" >Average Purchase Price</th>        <th class=\"col_heading level0 col2\" >Total Average Purchse</th>        <th class=\"col_heading level0 col3\" >Average Purchase Per Person</th>    </tr>    <tr>        <th class=\"index_name level0\" >Gender</th>        <th class=\"blank\" ></th>        <th class=\"blank\" ></th>        <th class=\"blank\" ></th>        <th class=\"blank\" ></th>    </tr></thead><tbody>\n",
       "                <tr>\n",
       "                        <th id=\"T_01a1f4e4_1739_11eb_85e6_1094bbf08d78level0_row0\" class=\"row_heading level0 row0\" >Female</th>\n",
       "                        <td id=\"T_01a1f4e4_1739_11eb_85e6_1094bbf08d78row0_col0\" class=\"data row0 col0\" >113</td>\n",
       "                        <td id=\"T_01a1f4e4_1739_11eb_85e6_1094bbf08d78row0_col1\" class=\"data row0 col1\" >$3.20</td>\n",
       "                        <td id=\"T_01a1f4e4_1739_11eb_85e6_1094bbf08d78row0_col2\" class=\"data row0 col2\" >$361.94</td>\n",
       "                        <td id=\"T_01a1f4e4_1739_11eb_85e6_1094bbf08d78row0_col3\" class=\"data row0 col3\" >$0.46</td>\n",
       "            </tr>\n",
       "            <tr>\n",
       "                        <th id=\"T_01a1f4e4_1739_11eb_85e6_1094bbf08d78level0_row1\" class=\"row_heading level0 row1\" >Male</th>\n",
       "                        <td id=\"T_01a1f4e4_1739_11eb_85e6_1094bbf08d78row1_col0\" class=\"data row1 col0\" >652</td>\n",
       "                        <td id=\"T_01a1f4e4_1739_11eb_85e6_1094bbf08d78row1_col1\" class=\"data row1 col1\" >$3.02</td>\n",
       "                        <td id=\"T_01a1f4e4_1739_11eb_85e6_1094bbf08d78row1_col2\" class=\"data row1 col2\" >$1,967.64</td>\n",
       "                        <td id=\"T_01a1f4e4_1739_11eb_85e6_1094bbf08d78row1_col3\" class=\"data row1 col3\" >$2.52</td>\n",
       "            </tr>\n",
       "            <tr>\n",
       "                        <th id=\"T_01a1f4e4_1739_11eb_85e6_1094bbf08d78level0_row2\" class=\"row_heading level0 row2\" >Other / Non-Disclosed</th>\n",
       "                        <td id=\"T_01a1f4e4_1739_11eb_85e6_1094bbf08d78row2_col0\" class=\"data row2 col0\" >15</td>\n",
       "                        <td id=\"T_01a1f4e4_1739_11eb_85e6_1094bbf08d78row2_col1\" class=\"data row2 col1\" >$3.35</td>\n",
       "                        <td id=\"T_01a1f4e4_1739_11eb_85e6_1094bbf08d78row2_col2\" class=\"data row2 col2\" >$50.19</td>\n",
       "                        <td id=\"T_01a1f4e4_1739_11eb_85e6_1094bbf08d78row2_col3\" class=\"data row2 col3\" >$0.06</td>\n",
       "            </tr>\n",
       "    </tbody></table>"
      ],
      "text/plain": [
       "<pandas.io.formats.style.Styler at 0x7fe746c3b9a0>"
      ]
     },
     "execution_count": 5,
     "metadata": {},
     "output_type": "execute_result"
    }
   ],
   "source": [
    "\n",
    "\n",
    "# count the total purchase by geder\n",
    "purchase_count = gender_grouped[\"Purchase ID\"].count()\n",
    "\n",
    "#average Purchse price by Gender\n",
    "average_purchase_price = gender_grouped[\"Price\"].mean()\n",
    "\n",
    "#average purchse total by gender\n",
    "average_purchase_total = gender_grouped[\"Price\"].sum()\n",
    "\n",
    "#average purchse total by gender divided by purchase count by unique shoppers\n",
    "average_purchase_per_person = average_purchase_total/total_genders\n",
    "\n",
    "#Create a Data Frame with obtained values\n",
    "gender_demographic_df = pd.DataFrame({\"Purchase Count\": purchase_count,\n",
    "                                      \"Average Purchase Price\": average_purchase_price,\n",
    "                                      \"Total Average Purchse\": average_purchase_total,\n",
    "                                      \"Average Purchase Per Person\": average_purchase_per_person})\n",
    "#provide index in top left as \"Gender\"\n",
    "\n",
    "gender_demographic_df.index.name = \"Gender\"\n",
    "\n",
    "#format with currency style\n",
    "gender_demographic_df.style.format({\"Average Purchase Price\": \"${:,.2f}\",\n",
    "                                    \"Total Average Purchse\": \"${:,.2f}\",\n",
    "                                     \"Average Purchase Per Person\": \"${:,.2f}\"})\n",
    "\n",
    "                                   \n"
   ]
  },
  {
   "cell_type": "markdown",
   "metadata": {},
   "source": [
    "## Age Demographics"
   ]
  },
  {
   "cell_type": "markdown",
   "metadata": {},
   "source": [
    "* Establish bins for ages\n",
    "\n",
    "\n",
    "* Categorize the existing players using the age bins. Hint: use pd.cut()\n",
    "\n",
    "\n",
    "* Calculate the numbers and percentages by age group\n",
    "\n",
    "\n",
    "* Create a summary data frame to hold the results\n",
    "\n",
    "\n",
    "* Optional: round the percentage column to two decimal points\n",
    "\n",
    "\n",
    "* Display Age Demographics Table\n"
   ]
  },
  {
   "cell_type": "code",
   "execution_count": null,
   "metadata": {},
   "outputs": [],
   "source": []
  },
  {
   "cell_type": "code",
   "execution_count": 6,
   "metadata": {},
   "outputs": [
    {
     "data": {
      "text/html": [
       "<div>\n",
       "<style scoped>\n",
       "    .dataframe tbody tr th:only-of-type {\n",
       "        vertical-align: middle;\n",
       "    }\n",
       "\n",
       "    .dataframe tbody tr th {\n",
       "        vertical-align: top;\n",
       "    }\n",
       "\n",
       "    .dataframe thead th {\n",
       "        text-align: right;\n",
       "    }\n",
       "</style>\n",
       "<table border=\"1\" class=\"dataframe\">\n",
       "  <thead>\n",
       "    <tr style=\"text-align: right;\">\n",
       "      <th></th>\n",
       "      <th>Percentage of Players</th>\n",
       "      <th>Total Count</th>\n",
       "    </tr>\n",
       "    <tr>\n",
       "      <th>Age Summary</th>\n",
       "      <th></th>\n",
       "      <th></th>\n",
       "    </tr>\n",
       "  </thead>\n",
       "  <tbody>\n",
       "    <tr>\n",
       "      <th>&lt;10</th>\n",
       "      <td>3.99%</td>\n",
       "      <td>23</td>\n",
       "    </tr>\n",
       "    <tr>\n",
       "      <th>10-14</th>\n",
       "      <td>4.86%</td>\n",
       "      <td>28</td>\n",
       "    </tr>\n",
       "    <tr>\n",
       "      <th>15-19</th>\n",
       "      <td>23.61%</td>\n",
       "      <td>136</td>\n",
       "    </tr>\n",
       "    <tr>\n",
       "      <th>20-24</th>\n",
       "      <td>63.37%</td>\n",
       "      <td>365</td>\n",
       "    </tr>\n",
       "    <tr>\n",
       "      <th>25-29</th>\n",
       "      <td>17.53%</td>\n",
       "      <td>101</td>\n",
       "    </tr>\n",
       "    <tr>\n",
       "      <th>30-34</th>\n",
       "      <td>12.67%</td>\n",
       "      <td>73</td>\n",
       "    </tr>\n",
       "    <tr>\n",
       "      <th>35-39</th>\n",
       "      <td>7.12%</td>\n",
       "      <td>41</td>\n",
       "    </tr>\n",
       "    <tr>\n",
       "      <th>40+</th>\n",
       "      <td>2.26%</td>\n",
       "      <td>13</td>\n",
       "    </tr>\n",
       "  </tbody>\n",
       "</table>\n",
       "</div>"
      ],
      "text/plain": [
       "            Percentage of Players  Total Count\n",
       "Age Summary                                   \n",
       "<10                         3.99%           23\n",
       "10-14                       4.86%           28\n",
       "15-19                      23.61%          136\n",
       "20-24                      63.37%          365\n",
       "25-29                      17.53%          101\n",
       "30-34                      12.67%           73\n",
       "35-39                       7.12%           41\n",
       "40+                         2.26%           13"
      ]
     },
     "execution_count": 6,
     "metadata": {},
     "output_type": "execute_result"
    }
   ],
   "source": [
    "age_bins = [0, 9.90, 14.90, 19.90, 24.90, 29.90, 34.90, 39.90, 99999]\n",
    "\n",
    "# Create the names for the four bins\n",
    "bin_group = [\"<10\", \"10-14\", \"15-19\", \"20-24\", \"25-29\", \"30-34\", \"35-39\", \"40+\"]\n",
    "\n",
    "age_demographic_bins_df = purchase_data\n",
    "age_demographic_bins_df[\"Age Summary\"] = pd.cut(age_demographic_bins_df[\"Age\"], age_bins, labels=bin_group)\n",
    "age_demographic_bins_df\n",
    "\n",
    "\n",
    "\n",
    "#Calculate the numbers and percentages by age group and Create a summary data frame to hold the results\n",
    "age_demographic_bins_df2 = age_demographic_bins_df.groupby(\"Age Summary\")\n",
    "new_age_summary_df = pd.DataFrame(age_demographic_bins_df2.count())\n",
    "new_age_summary_df[\"Purchase ID\"] = (new_age_summary_df[\"Purchase ID\"]/total_players)*100\n",
    "\n",
    "#Formatting and round the percentage column to two decimal points\n",
    "new_age_summary_df[\"Purchase ID\"] = new_age_summary_df[\"Purchase ID\"].map(\"{:,.2f}%\".format)\n",
    "summarized_by_age_df = new_age_summary_df[[\"Purchase ID\", \"SN\"]]\n",
    "\n",
    "\n",
    "# Display Age Demographics Table\n",
    "Age_Demographic_Table = summarized_by_age_df.rename(columns={\"SN\":\"Total Count\", \"Purchase ID\":\"Percentage of Players\", })\n",
    "Age_Demographic_Table\n",
    "\n"
   ]
  },
  {
   "cell_type": "markdown",
   "metadata": {},
   "source": [
    "## Purchasing Analysis (Age)"
   ]
  },
  {
   "cell_type": "markdown",
   "metadata": {},
   "source": [
    "* Bin the purchase_data data frame by age\n",
    "\n",
    "\n",
    "* Run basic calculations to obtain purchase count, avg. purchase price, avg. purchase total per person etc. in the table below\n",
    "\n",
    "\n",
    "* Create a summary data frame to hold the results\n",
    "\n",
    "\n",
    "* Optional: give the displayed data cleaner formatting\n",
    "\n",
    "\n",
    "* Display the summary data frame"
   ]
  },
  {
   "cell_type": "code",
   "execution_count": 53,
   "metadata": {},
   "outputs": [
    {
     "name": "stdout",
     "output_type": "stream",
     "text": [
      "<10      3.353478\n",
      "10-14    2.956429\n",
      "15-19    3.035956\n",
      "20-24    3.052219\n",
      "25-29    2.900990\n",
      "30-34    2.931507\n",
      "35-39    3.601707\n",
      "40+      2.941538\n",
      "Name: Price, dtype: float64\n"
     ]
    },
    {
     "data": {
      "text/plain": [
       "<bound method Styler.format of <pandas.io.formats.style.Styler object at 0x7fe748f049d0>>"
      ]
     },
     "execution_count": 53,
     "metadata": {},
     "output_type": "execute_result"
    }
   ],
   "source": [
    "# Basic calculations to obtain purchase count\n",
    "\n",
    "total_count_age = age_demographic_bins_df2[\"SN\"].nunique()\n",
    "\n",
    "purchse_count_by_age = age_demographic_bins_df2[\"Purchase ID\"].count()\n",
    "purchse_count_by_age\n",
    "\n",
    "avg_Purchase_price_by_age = age_demographic_bins_df2[\"Price\"].mean()\n",
    "print(avg_Purchase_price_by_age)\n",
    "\n",
    "Purchase_total_by_age = age_demographic_bins_df2[\"Price\"].sum()\n",
    "\n",
    "avg_Purchase_total_by_age = Purchase_total_by_age/total_count_age\n",
    "\n",
    "#Create a summary data frame to hold the results\n",
    "purchasing_analysis_by_age_df = pd.DataFrame({\"Purchase Count\": purchse_count_by_age,\n",
    "                                              \"Average Purchase Price\": avg_Purchase_price_by_age,\n",
    "                                              \"Total Purchase Value\": Purchase_total_by_age,\n",
    "                                              \"Average Purchase Total Per Person\": avg_Purchase_total_by_age})\n",
    "#give the displayed data cleaner formatting\n",
    "purchasing_analysis_by_age_df.index.name = None\n",
    "\n",
    "#Formatting\n",
    "purchasing_analysis_by_age_df.style.format({\"Average Purchase Price\":\"${:,.2f}\",\n",
    "                                            \"Total Purchase Value\":\"${:,.2f}\",\n",
    "                                           \"Average Purchase Total Per Person\":\"${:,.2f}\"})\n",
    "purchasing_analysis_by_age_df.style.format"
   ]
  },
  {
   "cell_type": "markdown",
   "metadata": {},
   "source": [
    "## Top Spenders"
   ]
  },
  {
   "cell_type": "markdown",
   "metadata": {},
   "source": [
    "* Run basic calculations to obtain the results in the table below\n",
    "\n",
    "\n",
    "* Create a summary data frame to hold the results\n",
    "\n",
    "\n",
    "* Sort the total purchase value column in descending order\n",
    "\n",
    "\n",
    "* Optional: give the displayed data cleaner formatting\n",
    "\n",
    "\n",
    "* Display a preview of the summary data frame\n",
    "\n"
   ]
  },
  {
   "cell_type": "code",
   "execution_count": 8,
   "metadata": {},
   "outputs": [
    {
     "data": {
      "text/html": [
       "<div>\n",
       "<style scoped>\n",
       "    .dataframe tbody tr th:only-of-type {\n",
       "        vertical-align: middle;\n",
       "    }\n",
       "\n",
       "    .dataframe tbody tr th {\n",
       "        vertical-align: top;\n",
       "    }\n",
       "\n",
       "    .dataframe thead th {\n",
       "        text-align: right;\n",
       "    }\n",
       "</style>\n",
       "<table border=\"1\" class=\"dataframe\">\n",
       "  <thead>\n",
       "    <tr style=\"text-align: right;\">\n",
       "      <th></th>\n",
       "      <th>Purchase Count</th>\n",
       "      <th>Average Purchase Price</th>\n",
       "      <th>Total Purchase Value</th>\n",
       "    </tr>\n",
       "    <tr>\n",
       "      <th>SN</th>\n",
       "      <th></th>\n",
       "      <th></th>\n",
       "      <th></th>\n",
       "    </tr>\n",
       "  </thead>\n",
       "  <tbody>\n",
       "    <tr>\n",
       "      <th>Lisosia93</th>\n",
       "      <td>5</td>\n",
       "      <td>3.792000</td>\n",
       "      <td>18.96</td>\n",
       "    </tr>\n",
       "    <tr>\n",
       "      <th>Idastidru52</th>\n",
       "      <td>4</td>\n",
       "      <td>3.862500</td>\n",
       "      <td>15.45</td>\n",
       "    </tr>\n",
       "    <tr>\n",
       "      <th>Chamjask73</th>\n",
       "      <td>3</td>\n",
       "      <td>4.610000</td>\n",
       "      <td>13.83</td>\n",
       "    </tr>\n",
       "    <tr>\n",
       "      <th>Iral74</th>\n",
       "      <td>4</td>\n",
       "      <td>3.405000</td>\n",
       "      <td>13.62</td>\n",
       "    </tr>\n",
       "    <tr>\n",
       "      <th>Iskadarya95</th>\n",
       "      <td>3</td>\n",
       "      <td>4.366667</td>\n",
       "      <td>13.10</td>\n",
       "    </tr>\n",
       "  </tbody>\n",
       "</table>\n",
       "</div>"
      ],
      "text/plain": [
       "             Purchase Count  Average Purchase Price  Total Purchase Value\n",
       "SN                                                                       \n",
       "Lisosia93                 5                3.792000                 18.96\n",
       "Idastidru52               4                3.862500                 15.45\n",
       "Chamjask73                3                4.610000                 13.83\n",
       "Iral74                    4                3.405000                 13.62\n",
       "Iskadarya95               3                4.366667                 13.10"
      ]
     },
     "execution_count": 8,
     "metadata": {},
     "output_type": "execute_result"
    }
   ],
   "source": [
    "#Run basic calculations to obtain the results in the table below\n",
    "spenders = purchase_data.groupby(\"SN\")\n",
    "spenders_count = spenders[\"SN\"].count()\n",
    "Average_spenders_price = spenders[\"Price\"].mean()\n",
    "Spenders_total_purchase = spenders[\"Price\"].sum()\n",
    "\n",
    "#Create a summary data frame to hold the results\n",
    "Top_spenders_df = pd.DataFrame({\"Purchase Count\": spenders_count,\n",
    "                                \"Average Purchase Price\": Average_spenders_price,\n",
    "                                \"Total Purchase Value\": Spenders_total_purchase})\n",
    "# Sort the total purchase value column in descending order\n",
    "Sortted_spenders_df = Top_spenders_df.sort_values([\"Total Purchase Value\"], ascending=False).head()\n",
    "Sortted_spenders_df.style.format({\"Average Purchase Price\":\"${:,.2f}\",\n",
    "                                  \"Total Purchase Value\":\"${:,.2f}\"})\n",
    "\n",
    "Sortted_spenders_df                                \n"
   ]
  },
  {
   "cell_type": "markdown",
   "metadata": {},
   "source": [
    "## Most Popular Items"
   ]
  },
  {
   "cell_type": "markdown",
   "metadata": {},
   "source": [
    "* Retrieve the Item ID, Item Name, and Item Price columns\n",
    "\n",
    "\n",
    "* Group by Item ID and Item Name. Perform calculations to obtain purchase count, average item price, and total purchase value\n",
    "\n",
    "\n",
    "* Create a summary data frame to hold the results\n",
    "\n",
    "\n",
    "* Sort the purchase count column in descending order\n",
    "\n",
    "\n",
    "* Optional: give the displayed data cleaner formatting\n",
    "\n",
    "\n",
    "* Display a preview of the summary data frame\n",
    "\n"
   ]
  },
  {
   "cell_type": "code",
   "execution_count": 45,
   "metadata": {},
   "outputs": [
    {
     "data": {
      "text/html": [
       "<style  type=\"text/css\" >\n",
       "</style><table id=\"T_76c55680_173e_11eb_85e6_1094bbf08d78\" ><thead>    <tr>        <th class=\"blank\" ></th>        <th class=\"blank level0\" ></th>        <th class=\"col_heading level0 col0\" >Purchase Count</th>        <th class=\"col_heading level0 col1\" >Item Price</th>        <th class=\"col_heading level0 col2\" >Total Purchase Value</th>    </tr>    <tr>        <th class=\"index_name level0\" >Item ID</th>        <th class=\"index_name level1\" >Item Name</th>        <th class=\"blank\" ></th>        <th class=\"blank\" ></th>        <th class=\"blank\" ></th>    </tr></thead><tbody>\n",
       "                <tr>\n",
       "                        <th id=\"T_76c55680_173e_11eb_85e6_1094bbf08d78level0_row0\" class=\"row_heading level0 row0\" >92</th>\n",
       "                        <th id=\"T_76c55680_173e_11eb_85e6_1094bbf08d78level1_row0\" class=\"row_heading level1 row0\" >Final Critic</th>\n",
       "                        <td id=\"T_76c55680_173e_11eb_85e6_1094bbf08d78row0_col0\" class=\"data row0 col0\" >13</td>\n",
       "                        <td id=\"T_76c55680_173e_11eb_85e6_1094bbf08d78row0_col1\" class=\"data row0 col1\" >$4.61</td>\n",
       "                        <td id=\"T_76c55680_173e_11eb_85e6_1094bbf08d78row0_col2\" class=\"data row0 col2\" >$59.99</td>\n",
       "            </tr>\n",
       "            <tr>\n",
       "                        <th id=\"T_76c55680_173e_11eb_85e6_1094bbf08d78level0_row1\" class=\"row_heading level0 row1\" >178</th>\n",
       "                        <th id=\"T_76c55680_173e_11eb_85e6_1094bbf08d78level1_row1\" class=\"row_heading level1 row1\" >Oathbreaker, Last Hope of the Breaking Storm</th>\n",
       "                        <td id=\"T_76c55680_173e_11eb_85e6_1094bbf08d78row1_col0\" class=\"data row1 col0\" >12</td>\n",
       "                        <td id=\"T_76c55680_173e_11eb_85e6_1094bbf08d78row1_col1\" class=\"data row1 col1\" >$4.23</td>\n",
       "                        <td id=\"T_76c55680_173e_11eb_85e6_1094bbf08d78row1_col2\" class=\"data row1 col2\" >$50.76</td>\n",
       "            </tr>\n",
       "            <tr>\n",
       "                        <th id=\"T_76c55680_173e_11eb_85e6_1094bbf08d78level0_row2\" class=\"row_heading level0 row2\" >145</th>\n",
       "                        <th id=\"T_76c55680_173e_11eb_85e6_1094bbf08d78level1_row2\" class=\"row_heading level1 row2\" >Fiery Glass Crusader</th>\n",
       "                        <td id=\"T_76c55680_173e_11eb_85e6_1094bbf08d78row2_col0\" class=\"data row2 col0\" >9</td>\n",
       "                        <td id=\"T_76c55680_173e_11eb_85e6_1094bbf08d78row2_col1\" class=\"data row2 col1\" >$4.58</td>\n",
       "                        <td id=\"T_76c55680_173e_11eb_85e6_1094bbf08d78row2_col2\" class=\"data row2 col2\" >$41.22</td>\n",
       "            </tr>\n",
       "            <tr>\n",
       "                        <th id=\"T_76c55680_173e_11eb_85e6_1094bbf08d78level0_row3\" class=\"row_heading level0 row3\" >132</th>\n",
       "                        <th id=\"T_76c55680_173e_11eb_85e6_1094bbf08d78level1_row3\" class=\"row_heading level1 row3\" >Persuasion</th>\n",
       "                        <td id=\"T_76c55680_173e_11eb_85e6_1094bbf08d78row3_col0\" class=\"data row3 col0\" >9</td>\n",
       "                        <td id=\"T_76c55680_173e_11eb_85e6_1094bbf08d78row3_col1\" class=\"data row3 col1\" >$3.22</td>\n",
       "                        <td id=\"T_76c55680_173e_11eb_85e6_1094bbf08d78row3_col2\" class=\"data row3 col2\" >$28.99</td>\n",
       "            </tr>\n",
       "            <tr>\n",
       "                        <th id=\"T_76c55680_173e_11eb_85e6_1094bbf08d78level0_row4\" class=\"row_heading level0 row4\" >108</th>\n",
       "                        <th id=\"T_76c55680_173e_11eb_85e6_1094bbf08d78level1_row4\" class=\"row_heading level1 row4\" >Extraction, Quickblade Of Trembling Hands</th>\n",
       "                        <td id=\"T_76c55680_173e_11eb_85e6_1094bbf08d78row4_col0\" class=\"data row4 col0\" >9</td>\n",
       "                        <td id=\"T_76c55680_173e_11eb_85e6_1094bbf08d78row4_col1\" class=\"data row4 col1\" >$3.53</td>\n",
       "                        <td id=\"T_76c55680_173e_11eb_85e6_1094bbf08d78row4_col2\" class=\"data row4 col2\" >$31.77</td>\n",
       "            </tr>\n",
       "    </tbody></table>"
      ],
      "text/plain": [
       "<pandas.io.formats.style.Styler at 0x7fe7490e2d60>"
      ]
     },
     "execution_count": 45,
     "metadata": {},
     "output_type": "execute_result"
    }
   ],
   "source": [
    "# Create new data frame and grouping by \"Item ID\"first, \"then Item Name\"\n",
    "items = purchase_data[[\"Item ID\", \"Item Name\", \"Price\"]]\n",
    "item_group = items.groupby([\"Item ID\",\"Item Name\"])\n",
    "\n",
    "# Perform calculations to obtain purchase count, average item price, and total purchase value\n",
    "Item_count = item_group[\"Price\"].count()\n",
    "purchase_value = item_group[\"Price\"].sum()\n",
    "avg_item_price = item_group[\"Price\"].mean()\n",
    "\n",
    "# Create data frame with obtained values\n",
    "Popular_item_df = pd.DataFrame({\"Purchase Count\": Item_count, \"Item Price\": item_price, \n",
    "                                \"Total Purchase Value\":purchase_value})\n",
    "\n",
    "# Sort the purchase count column in descending order\n",
    "sorted_item = Popular_item_df.sort_values([\"Purchase Count\"], ascending=False).head()\n",
    "\n",
    "# Formatting Item price and Total purchase value \n",
    "popular_formatted.style.format({\"Item Price\":\"${:,.2f}\",\n",
    "                                \"Total Purchase Value\":\"${:,.2f}\"})\n",
    "\n",
    "\n",
    "\n",
    "\n"
   ]
  },
  {
   "cell_type": "markdown",
   "metadata": {},
   "source": [
    "# Most Profitable Items"
   ]
  },
  {
   "cell_type": "markdown",
   "metadata": {},
   "source": [
    "* Sort the above table by total purchase value in descending order\n",
    "\n",
    "\n",
    "* Optional: give the displayed data cleaner formatting\n",
    "\n",
    "\n",
    "* Display a preview of the data frame\n",
    "\n"
   ]
  },
  {
   "cell_type": "code",
   "execution_count": 52,
   "metadata": {},
   "outputs": [
    {
     "data": {
      "text/html": [
       "<style  type=\"text/css\" >\n",
       "</style><table id=\"T_77cdfed2_173f_11eb_85e6_1094bbf08d78\" ><thead>    <tr>        <th class=\"blank\" ></th>        <th class=\"blank level0\" ></th>        <th class=\"col_heading level0 col0\" >Purchase Count</th>        <th class=\"col_heading level0 col1\" >Item Price</th>        <th class=\"col_heading level0 col2\" >Total Purchase Value</th>    </tr>    <tr>        <th class=\"index_name level0\" >Item ID</th>        <th class=\"index_name level1\" >Item Name</th>        <th class=\"blank\" ></th>        <th class=\"blank\" ></th>        <th class=\"blank\" ></th>    </tr></thead><tbody>\n",
       "                <tr>\n",
       "                        <th id=\"T_77cdfed2_173f_11eb_85e6_1094bbf08d78level0_row0\" class=\"row_heading level0 row0\" >92</th>\n",
       "                        <th id=\"T_77cdfed2_173f_11eb_85e6_1094bbf08d78level1_row0\" class=\"row_heading level1 row0\" >Final Critic</th>\n",
       "                        <td id=\"T_77cdfed2_173f_11eb_85e6_1094bbf08d78row0_col0\" class=\"data row0 col0\" >13</td>\n",
       "                        <td id=\"T_77cdfed2_173f_11eb_85e6_1094bbf08d78row0_col1\" class=\"data row0 col1\" >$4.61</td>\n",
       "                        <td id=\"T_77cdfed2_173f_11eb_85e6_1094bbf08d78row0_col2\" class=\"data row0 col2\" >$59.99</td>\n",
       "            </tr>\n",
       "            <tr>\n",
       "                        <th id=\"T_77cdfed2_173f_11eb_85e6_1094bbf08d78level0_row1\" class=\"row_heading level0 row1\" >178</th>\n",
       "                        <th id=\"T_77cdfed2_173f_11eb_85e6_1094bbf08d78level1_row1\" class=\"row_heading level1 row1\" >Oathbreaker, Last Hope of the Breaking Storm</th>\n",
       "                        <td id=\"T_77cdfed2_173f_11eb_85e6_1094bbf08d78row1_col0\" class=\"data row1 col0\" >12</td>\n",
       "                        <td id=\"T_77cdfed2_173f_11eb_85e6_1094bbf08d78row1_col1\" class=\"data row1 col1\" >$4.23</td>\n",
       "                        <td id=\"T_77cdfed2_173f_11eb_85e6_1094bbf08d78row1_col2\" class=\"data row1 col2\" >$50.76</td>\n",
       "            </tr>\n",
       "            <tr>\n",
       "                        <th id=\"T_77cdfed2_173f_11eb_85e6_1094bbf08d78level0_row2\" class=\"row_heading level0 row2\" >145</th>\n",
       "                        <th id=\"T_77cdfed2_173f_11eb_85e6_1094bbf08d78level1_row2\" class=\"row_heading level1 row2\" >Fiery Glass Crusader</th>\n",
       "                        <td id=\"T_77cdfed2_173f_11eb_85e6_1094bbf08d78row2_col0\" class=\"data row2 col0\" >9</td>\n",
       "                        <td id=\"T_77cdfed2_173f_11eb_85e6_1094bbf08d78row2_col1\" class=\"data row2 col1\" >$4.58</td>\n",
       "                        <td id=\"T_77cdfed2_173f_11eb_85e6_1094bbf08d78row2_col2\" class=\"data row2 col2\" >$41.22</td>\n",
       "            </tr>\n",
       "            <tr>\n",
       "                        <th id=\"T_77cdfed2_173f_11eb_85e6_1094bbf08d78level0_row3\" class=\"row_heading level0 row3\" >108</th>\n",
       "                        <th id=\"T_77cdfed2_173f_11eb_85e6_1094bbf08d78level1_row3\" class=\"row_heading level1 row3\" >Extraction, Quickblade Of Trembling Hands</th>\n",
       "                        <td id=\"T_77cdfed2_173f_11eb_85e6_1094bbf08d78row3_col0\" class=\"data row3 col0\" >9</td>\n",
       "                        <td id=\"T_77cdfed2_173f_11eb_85e6_1094bbf08d78row3_col1\" class=\"data row3 col1\" >$3.53</td>\n",
       "                        <td id=\"T_77cdfed2_173f_11eb_85e6_1094bbf08d78row3_col2\" class=\"data row3 col2\" >$31.77</td>\n",
       "            </tr>\n",
       "            <tr>\n",
       "                        <th id=\"T_77cdfed2_173f_11eb_85e6_1094bbf08d78level0_row4\" class=\"row_heading level0 row4\" >132</th>\n",
       "                        <th id=\"T_77cdfed2_173f_11eb_85e6_1094bbf08d78level1_row4\" class=\"row_heading level1 row4\" >Persuasion</th>\n",
       "                        <td id=\"T_77cdfed2_173f_11eb_85e6_1094bbf08d78row4_col0\" class=\"data row4 col0\" >9</td>\n",
       "                        <td id=\"T_77cdfed2_173f_11eb_85e6_1094bbf08d78row4_col1\" class=\"data row4 col1\" >$3.22</td>\n",
       "                        <td id=\"T_77cdfed2_173f_11eb_85e6_1094bbf08d78row4_col2\" class=\"data row4 col2\" >$28.99</td>\n",
       "            </tr>\n",
       "    </tbody></table>"
      ],
      "text/plain": [
       "<pandas.io.formats.style.Styler at 0x7fe7490dbcd0>"
      ]
     },
     "execution_count": 52,
     "metadata": {},
     "output_type": "execute_result"
    }
   ],
   "source": [
    "#Sort the above table by total purchase value in descending order and a cleaner formatting\n",
    "Most_profitable_df = sorted_item.sort_values([\"Total Purchase Value\"], ascending=False).head()\n",
    "Most_profitable_df.style.format({\"Item Price\":\"${:,.2f}\",\n",
    "                                \"Total Purchase Value\":\"${:,.2f}\"})\n"
   ]
  },
  {
   "cell_type": "code",
   "execution_count": null,
   "metadata": {},
   "outputs": [],
   "source": []
  }
 ],
 "metadata": {
  "anaconda-cloud": {},
  "kernel_info": {
   "name": "python3"
  },
  "kernelspec": {
   "display_name": "Python 3",
   "language": "python",
   "name": "python3"
  },
  "language_info": {
   "codemirror_mode": {
    "name": "ipython",
    "version": 3
   },
   "file_extension": ".py",
   "mimetype": "text/x-python",
   "name": "python",
   "nbconvert_exporter": "python",
   "pygments_lexer": "ipython3",
   "version": "3.8.3"
  },
  "latex_envs": {
   "LaTeX_envs_menu_present": true,
   "autoclose": false,
   "autocomplete": true,
   "bibliofile": "biblio.bib",
   "cite_by": "apalike",
   "current_citInitial": 1,
   "eqLabelWithNumbers": true,
   "eqNumInitial": 1,
   "hotkeys": {
    "equation": "Ctrl-E",
    "itemize": "Ctrl-I"
   },
   "labels_anchors": false,
   "latex_user_defs": false,
   "report_style_numbering": false,
   "user_envs_cfg": false
  },
  "nteract": {
   "version": "0.2.0"
  }
 },
 "nbformat": 4,
 "nbformat_minor": 2
}
